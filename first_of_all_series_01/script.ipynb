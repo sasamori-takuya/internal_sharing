{
 "cells": [
  {
   "cell_type": "code",
   "execution_count": 1,
   "metadata": {},
   "outputs": [],
   "source": [
    "import pandas as pd\n",
    "import numpy as np"
   ]
  },
  {
   "cell_type": "code",
   "execution_count": 2,
   "metadata": {},
   "outputs": [],
   "source": [
    "df = pd.DataFrame({\"feature_col1\":np.random.randint(4, size=100)\n",
    "                   , \"feature_col2\":np.random.randint(6, size=100)\n",
    "                   , \"feature_col3\":np.random.randint(2, size=100)\n",
    "                   , \"feature_col4\":np.random.randint(5, size=100)\n",
    "                   , \"feature_col5\":np.random.randint(10, size=100)\n",
    "                   , \"target_col\":np.random.randint(2, size=100)\n",
    "                  }).astype(\"object\")"
   ]
  },
  {
   "cell_type": "code",
   "execution_count": 3,
   "metadata": {},
   "outputs": [
    {
     "data": {
      "text/html": [
       "<div>\n",
       "<style scoped>\n",
       "    .dataframe tbody tr th:only-of-type {\n",
       "        vertical-align: middle;\n",
       "    }\n",
       "\n",
       "    .dataframe tbody tr th {\n",
       "        vertical-align: top;\n",
       "    }\n",
       "\n",
       "    .dataframe thead th {\n",
       "        text-align: right;\n",
       "    }\n",
       "</style>\n",
       "<table border=\"1\" class=\"dataframe\">\n",
       "  <thead>\n",
       "    <tr style=\"text-align: right;\">\n",
       "      <th></th>\n",
       "      <th>feature_col1</th>\n",
       "      <th>feature_col2</th>\n",
       "      <th>feature_col3</th>\n",
       "      <th>feature_col4</th>\n",
       "      <th>feature_col5</th>\n",
       "      <th>target_col</th>\n",
       "    </tr>\n",
       "  </thead>\n",
       "  <tbody>\n",
       "    <tr>\n",
       "      <td>0</td>\n",
       "      <td>0</td>\n",
       "      <td>0</td>\n",
       "      <td>0</td>\n",
       "      <td>0</td>\n",
       "      <td>2</td>\n",
       "      <td>1</td>\n",
       "    </tr>\n",
       "    <tr>\n",
       "      <td>1</td>\n",
       "      <td>0</td>\n",
       "      <td>5</td>\n",
       "      <td>1</td>\n",
       "      <td>3</td>\n",
       "      <td>2</td>\n",
       "      <td>0</td>\n",
       "    </tr>\n",
       "    <tr>\n",
       "      <td>2</td>\n",
       "      <td>1</td>\n",
       "      <td>0</td>\n",
       "      <td>0</td>\n",
       "      <td>4</td>\n",
       "      <td>8</td>\n",
       "      <td>0</td>\n",
       "    </tr>\n",
       "    <tr>\n",
       "      <td>3</td>\n",
       "      <td>2</td>\n",
       "      <td>0</td>\n",
       "      <td>1</td>\n",
       "      <td>3</td>\n",
       "      <td>8</td>\n",
       "      <td>0</td>\n",
       "    </tr>\n",
       "    <tr>\n",
       "      <td>4</td>\n",
       "      <td>3</td>\n",
       "      <td>3</td>\n",
       "      <td>0</td>\n",
       "      <td>3</td>\n",
       "      <td>5</td>\n",
       "      <td>0</td>\n",
       "    </tr>\n",
       "  </tbody>\n",
       "</table>\n",
       "</div>"
      ],
      "text/plain": [
       "  feature_col1 feature_col2 feature_col3 feature_col4 feature_col5 target_col\n",
       "0            0            0            0            0            2          1\n",
       "1            0            5            1            3            2          0\n",
       "2            1            0            0            4            8          0\n",
       "3            2            0            1            3            8          0\n",
       "4            3            3            0            3            5          0"
      ]
     },
     "execution_count": 3,
     "metadata": {},
     "output_type": "execute_result"
    }
   ],
   "source": [
    "df.head()"
   ]
  },
  {
   "cell_type": "code",
   "execution_count": 4,
   "metadata": {},
   "outputs": [],
   "source": [
    "features = [col for col in df.columns if col != \"target_col\"]"
   ]
  },
  {
   "cell_type": "code",
   "execution_count": 5,
   "metadata": {},
   "outputs": [
    {
     "data": {
      "text/plain": [
       "['feature_col1',\n",
       " 'feature_col2',\n",
       " 'feature_col3',\n",
       " 'feature_col4',\n",
       " 'feature_col5']"
      ]
     },
     "execution_count": 5,
     "metadata": {},
     "output_type": "execute_result"
    }
   ],
   "source": [
    "features"
   ]
  },
  {
   "cell_type": "code",
   "execution_count": 6,
   "metadata": {},
   "outputs": [
    {
     "data": {
      "text/html": [
       "<div>\n",
       "<style scoped>\n",
       "    .dataframe tbody tr th:only-of-type {\n",
       "        vertical-align: middle;\n",
       "    }\n",
       "\n",
       "    .dataframe tbody tr th {\n",
       "        vertical-align: top;\n",
       "    }\n",
       "\n",
       "    .dataframe thead th {\n",
       "        text-align: right;\n",
       "    }\n",
       "</style>\n",
       "<table border=\"1\" class=\"dataframe\">\n",
       "  <thead>\n",
       "    <tr style=\"text-align: right;\">\n",
       "      <th>feature_col2</th>\n",
       "      <th>0</th>\n",
       "      <th>1</th>\n",
       "      <th>2</th>\n",
       "      <th>3</th>\n",
       "      <th>4</th>\n",
       "      <th>5</th>\n",
       "    </tr>\n",
       "    <tr>\n",
       "      <th>feature_col1</th>\n",
       "      <th></th>\n",
       "      <th></th>\n",
       "      <th></th>\n",
       "      <th></th>\n",
       "      <th></th>\n",
       "      <th></th>\n",
       "    </tr>\n",
       "  </thead>\n",
       "  <tbody>\n",
       "    <tr>\n",
       "      <td>0</td>\n",
       "      <td>4</td>\n",
       "      <td>2</td>\n",
       "      <td>4</td>\n",
       "      <td>2</td>\n",
       "      <td>8</td>\n",
       "      <td>7</td>\n",
       "    </tr>\n",
       "    <tr>\n",
       "      <td>1</td>\n",
       "      <td>4</td>\n",
       "      <td>4</td>\n",
       "      <td>5</td>\n",
       "      <td>5</td>\n",
       "      <td>6</td>\n",
       "      <td>5</td>\n",
       "    </tr>\n",
       "    <tr>\n",
       "      <td>2</td>\n",
       "      <td>4</td>\n",
       "      <td>3</td>\n",
       "      <td>4</td>\n",
       "      <td>3</td>\n",
       "      <td>0</td>\n",
       "      <td>5</td>\n",
       "    </tr>\n",
       "    <tr>\n",
       "      <td>3</td>\n",
       "      <td>1</td>\n",
       "      <td>3</td>\n",
       "      <td>8</td>\n",
       "      <td>6</td>\n",
       "      <td>3</td>\n",
       "      <td>4</td>\n",
       "    </tr>\n",
       "  </tbody>\n",
       "</table>\n",
       "</div>"
      ],
      "text/plain": [
       "feature_col2  0  1  2  3  4  5\n",
       "feature_col1                  \n",
       "0             4  2  4  2  8  7\n",
       "1             4  4  5  5  6  5\n",
       "2             4  3  4  3  0  5\n",
       "3             1  3  8  6  3  4"
      ]
     },
     "execution_count": 6,
     "metadata": {},
     "output_type": "execute_result"
    }
   ],
   "source": [
    "pd.crosstab(df[\"feature_col1\"], df[\"feature_col2\"])"
   ]
  },
  {
   "cell_type": "code",
   "execution_count": 7,
   "metadata": {},
   "outputs": [],
   "source": [
    "list_feature_comb = []\n",
    "for feature1 in features:\n",
    "    for feature2 in features:\n",
    "        if feature1 == feature2:\n",
    "            continue\n",
    "        else:\n",
    "            if ([feature1, feature2] in list_feature_comb) or ([feature2, feature1] in list_feature_comb):\n",
    "                continue\n",
    "            else:\n",
    "                list_feature_comb.append([feature1, feature2])\n",
    "                pd.crosstab(df[feature1], df[feature2])\\\n",
    "                    .reset_index()\\\n",
    "                    .rename(columns={feature1:\"{}/{}\".format(feature1, feature2)})\\\n",
    "                    .to_csv(\"crossfreq_{}_{}.csv\".format(feature1, feature2), encoding=\"utf-8\", index=False)"
   ]
  },
  {
   "cell_type": "code",
   "execution_count": 8,
   "metadata": {},
   "outputs": [
    {
     "data": {
      "text/plain": [
       "<itertools.combinations at 0x12d2d2efdb8>"
      ]
     },
     "execution_count": 8,
     "metadata": {},
     "output_type": "execute_result"
    }
   ],
   "source": [
    "import itertools\n",
    "itertools.combinations(features, 2)"
   ]
  },
  {
   "cell_type": "code",
   "execution_count": 9,
   "metadata": {},
   "outputs": [
    {
     "name": "stdout",
     "output_type": "stream",
     "text": [
      "('feature_col1', 'feature_col2')\n",
      "('feature_col1', 'feature_col3')\n",
      "('feature_col1', 'feature_col4')\n",
      "('feature_col1', 'feature_col5')\n",
      "('feature_col2', 'feature_col3')\n",
      "('feature_col2', 'feature_col4')\n",
      "('feature_col2', 'feature_col5')\n",
      "('feature_col3', 'feature_col4')\n",
      "('feature_col3', 'feature_col5')\n",
      "('feature_col4', 'feature_col5')\n"
     ]
    }
   ],
   "source": [
    "for element in itertools.combinations(features, 2):\n",
    "    print(element)"
   ]
  },
  {
   "cell_type": "code",
   "execution_count": 10,
   "metadata": {},
   "outputs": [
    {
     "data": {
      "text/plain": [
       "[['feature_col1', 'feature_col2'],\n",
       " ['feature_col1', 'feature_col3'],\n",
       " ['feature_col1', 'feature_col4'],\n",
       " ['feature_col1', 'feature_col5'],\n",
       " ['feature_col2', 'feature_col3'],\n",
       " ['feature_col2', 'feature_col4'],\n",
       " ['feature_col2', 'feature_col5'],\n",
       " ['feature_col3', 'feature_col4'],\n",
       " ['feature_col3', 'feature_col5'],\n",
       " ['feature_col4', 'feature_col5']]"
      ]
     },
     "execution_count": 10,
     "metadata": {},
     "output_type": "execute_result"
    }
   ],
   "source": [
    "[list(tpl) for tpl in itertools.combinations(features, 2)]"
   ]
  },
  {
   "cell_type": "code",
   "execution_count": 11,
   "metadata": {},
   "outputs": [],
   "source": [
    "combinations = [list(tpl) for tpl in itertools.combinations(features, 2)]\n",
    "for list_feature_comb in combinations:\n",
    "    feature1 = list_feature_comb[0]\n",
    "    feature2 = list_feature_comb[1]\n",
    "    pd.crosstab(df[feature1], df[feature2])\\\n",
    "        .reset_index()\\\n",
    "        .rename(columns={feature1:\"{}/{}\".format(feature1, feature2)})\\\n",
    "        .to_csv(\"crossfreq_{}_{}.csv\".format(feature1, feature2)\n",
    "                , encoding=\"utf-8\", index=False)"
   ]
  }
 ],
 "metadata": {
  "kernelspec": {
   "display_name": "Python 3",
   "language": "python",
   "name": "python3"
  },
  "language_info": {
   "codemirror_mode": {
    "name": "ipython",
    "version": 3
   },
   "file_extension": ".py",
   "mimetype": "text/x-python",
   "name": "python",
   "nbconvert_exporter": "python",
   "pygments_lexer": "ipython3",
   "version": "3.7.4"
  }
 },
 "nbformat": 4,
 "nbformat_minor": 2
}

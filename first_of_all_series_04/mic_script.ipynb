{
  "nbformat": 4,
  "nbformat_minor": 0,
  "metadata": {
    "colab": {
      "name": "mic_script.ipynb",
      "provenance": [],
      "collapsed_sections": [],
      "authorship_tag": "ABX9TyOZRc+hICP0HmDItAiIOna2",
      "include_colab_link": true
    },
    "kernelspec": {
      "name": "python3",
      "display_name": "Python 3"
    }
  },
  "cells": [
    {
      "cell_type": "markdown",
      "metadata": {
        "id": "view-in-github",
        "colab_type": "text"
      },
      "source": [
        "<a href=\"https://colab.research.google.com/github/sasamori-takuya/internal_sharing/blob/master/first_of_all_series_04/mic_script.ipynb\" target=\"_parent\"><img src=\"https://colab.research.google.com/assets/colab-badge.svg\" alt=\"Open In Colab\"/></a>"
      ]
    },
    {
      "cell_type": "markdown",
      "metadata": {
        "id": "-NVnKjrhay60",
        "colab_type": "text"
      },
      "source": [
        "# 2つのデータ $x, y$ の「相関」を見る指標  \n",
        "\n",
        "\n",
        "1. **Person の積率相関係数（我々が通常「相関係数」と呼んでいるもの）**  \n",
        "「$x$ と $y$ にどれだけ**線形相関**があるか」を指標  \n",
        ">1に近い ⇒ $y = ax + b(a>0)$ っぽくなっている  \n",
        ">-1に近い ⇒ $y = ax + b(a<0)$ っぽくなっている  \n",
        ">0に近い ⇒ 線形関係では表されない\n",
        "  \n",
        "2. **MIC(Maximal Information Coefficient)**  \n",
        "「非線形でもいいから $x$ と $y$ にどれだけ**(線形とは限らない)相関**があるか」を表す指標  \n",
        ">1に近い ⇒ $x$ と $y$ は具体的に $y=f(x)$ と書けるかどうかは分からなけど、とりあえず関係してそう  \n",
        ">0に近い ⇒ $x$ と $y$ は関係なさそう\n",
        "  \n",
        "3. **MAS(Maximum Asymmetry Score)**  \n",
        "「$x$ と $y$ の関係がどれだけ単調でないか」を表す指標  \n",
        ">0に近い ⇒ $x$ と $y$ の関係は単調(増大あるいは減少)でありそう  \n",
        ">1に近い ⇒ $x$ と $y$ の関係は単調ではなさそう\n",
        "  \n",
        "4. **MEV(Maximum Edge Value)**  \n",
        "「$y = f(x)$ みたいな $f$ がありそうかどうか」を表す指標\n",
        ">0に近い ⇒ そういう $f$ はなさそう  \n",
        ">1に近い ⇒ そういう $f$ はありそう  \n",
        "  \n",
        "5. **MCN(Minimum Cell Number)**  \n",
        "「複雑性」を表す指標  \n",
        "大きいほど複雑であるといえる  \n",
        "MASが小さければMCNも小さくなる\n"
      ]
    },
    {
      "cell_type": "code",
      "metadata": {
        "id": "Dcf3uuUrKilA",
        "colab_type": "code",
        "outputId": "8335ae3e-077b-4a4e-d15e-728346f67b52",
        "colab": {
          "base_uri": "https://localhost:8080/",
          "height": 204
        }
      },
      "source": [
        "!pip install minepy\n",
        "import numpy as np\n",
        "from minepy import MINE\n",
        "from matplotlib import pyplot as plt\n",
        "%matplotlib inline"
      ],
      "execution_count": 1,
      "outputs": [
        {
          "output_type": "stream",
          "text": [
            "Collecting minepy\n",
            "\u001b[?25l  Downloading https://files.pythonhosted.org/packages/90/a6/cdfe0f50b16d18196b3a21d3df8c06c361ccbd553717093133a88227823b/minepy-1.2.4.tar.gz (493kB)\n",
            "\u001b[K     |████████████████████████████████| 501kB 2.8MB/s \n",
            "\u001b[?25hRequirement already satisfied: numpy>=1.3.0 in /usr/local/lib/python3.6/dist-packages (from minepy) (1.18.4)\n",
            "Building wheels for collected packages: minepy\n",
            "  Building wheel for minepy (setup.py) ... \u001b[?25l\u001b[?25hdone\n",
            "  Created wheel for minepy: filename=minepy-1.2.4-cp36-cp36m-linux_x86_64.whl size=174018 sha256=c6731c36e9a37062795730b03994c20a80e925cf29eefe2974062fcd7de4b31c\n",
            "  Stored in directory: /root/.cache/pip/wheels/ea/ad/3a/0e6f5c87be5ee6ad987bd7a317dd6b92e616d559f63f4d8acc\n",
            "Successfully built minepy\n",
            "Installing collected packages: minepy\n",
            "Successfully installed minepy-1.2.4\n"
          ],
          "name": "stdout"
        }
      ]
    },
    {
      "cell_type": "code",
      "metadata": {
        "id": "VTECU5U5URpn",
        "colab_type": "code",
        "colab": {}
      },
      "source": [
        "def print_indicators(x, y):\n",
        "  corr = np.corrcoef(x, y)[0, 1]\n",
        "  mine = MINE()\n",
        "  mine.compute_score(x, y)\n",
        "\n",
        "  print(\"[線形相関の指標] Pearson Corr = {:.3f}\".format(corr))\n",
        "  print(\"[線形とは限らない相関の指標] MIC = {:.3f}\".format(mine.mic()))\n",
        "  print(\"[単調関係がなさそうかどうかの指標] MAS = {:.3f}\".format(mine.mas()))\n",
        "  print(\"[具体的な関数がありそうかどうかの指標] MEV = {:.3f}\".format(mine.mev()))\n",
        "  print(\"MCN (eps=0) = {:.3f}\".format(mine.mcn(0)))\n",
        "  print(\"MCN (eps=1-MIC) = {:.3f}\".format(mine.mcn_general()))\n",
        "  print(\"GMIC = {:.3f}\".format(mine.gmic()))\n",
        "  print(\"TIC = {:.3f}\".format(mine.tic()))\n",
        "  \n",
        "  plt.scatter(x, y)\n",
        "  return None"
      ],
      "execution_count": 0,
      "outputs": []
    },
    {
      "cell_type": "markdown",
      "metadata": {
        "id": "0jBp7uMCRkoB",
        "colab_type": "text"
      },
      "source": [
        "# $y=x + noise$"
      ]
    },
    {
      "cell_type": "code",
      "metadata": {
        "id": "1pRSYET_RjcC",
        "colab_type": "code",
        "outputId": "37644b6a-3903-4d13-89a4-6c127bcd8bae",
        "colab": {
          "base_uri": "https://localhost:8080/",
          "height": 401
        }
      },
      "source": [
        "np.random.seed(1)\n",
        "\n",
        "N = 100\n",
        "x = np.linspace(-10, 10, N)\n",
        "noise = np.random.uniform(-1, 1, size = N)\n",
        "y = x + noise\n",
        "\n",
        "print_indicators(x, y)"
      ],
      "execution_count": 3,
      "outputs": [
        {
          "output_type": "stream",
          "text": [
            "[線形相関の指標] Pearson Corr = 0.995\n",
            "[線形とは限らない相関の指標] MIC = 1.000\n",
            "[単調関係がなさそうかどうかの指標] MAS = 0.036\n",
            "[具体的な関数がありそうかどうかの指標] MEV = 1.000\n",
            "MCN (eps=0) = 3.000\n",
            "MCN (eps=1-MIC) = 3.000\n",
            "GMIC = 0.991\n",
            "TIC = 15.697\n"
          ],
          "name": "stdout"
        },
        {
          "output_type": "display_data",
          "data": {
            "image/png": "[encoded data removed]",
            "text/plain": [
              "<Figure size 432x288 with 1 Axes>"
            ]
          },
          "metadata": {
            "tags": [],
            "needs_background": "light"
          }
        }
      ]
    },
    {
      "cell_type": "markdown",
      "metadata": {
        "id": "xd_h0OKfUDYP",
        "colab_type": "text"
      },
      "source": [
        "実験意図としては「Person Corrがいい値のときに MIC はいい値を出してくれるかどうか」  \n",
        "まず，Person Corr は 0.995 なので「かなり強い線形相関がある」がわかる（当たり前）  \n",
        "MIC も 1.000 なので「かなり強い相関がある」と出してくれる  (これも当たり前体操)  \n",
        "MAS は 0.036 とかなり小さいので「単調性が強い」と出してくれる(これも当たり前体操)  \n",
        "MEV は 1.000 とかなり大きいので「$y$ と $x$ の関係は具体的に表示できる可能性が非常に高い」と出してくれる(そりゃそうじゃ)  \n",
        "  \n",
        "よって，確かに「元々 Person Corr が(想定通りに)良い値が出てくれる場合，MINEの各値も良い値が出てくれる」ようだ"
      ]
    },
    {
      "cell_type": "markdown",
      "metadata": {
        "id": "hE0w9K0kWxLd",
        "colab_type": "text"
      },
      "source": [
        "# $y = x^2 + noise$"
      ]
    },
    {
      "cell_type": "code",
      "metadata": {
        "id": "w2f6cH94SEUu",
        "colab_type": "code",
        "outputId": "c2a635cb-583b-49a3-9755-6eb13f4174f3",
        "colab": {
          "base_uri": "https://localhost:8080/",
          "height": 401
        }
      },
      "source": [
        "np.random.seed(2)\n",
        "\n",
        "N = 100\n",
        "x = np.linspace(-10, 10, N)\n",
        "noise = np.random.uniform(-10, 10, size = N)  # 2乗しているので [-1, 1] だと変動が弱いから区間幅を広げる\n",
        "y = x**2 + noise\n",
        "\n",
        "print_indicators(x, y)"
      ],
      "execution_count": 4,
      "outputs": [
        {
          "output_type": "stream",
          "text": [
            "[線形相関の指標] Pearson Corr = 0.018\n",
            "[線形とは限らない相関の指標] MIC = 0.940\n",
            "[単調関係がなさそうかどうかの指標] MAS = 0.617\n",
            "[具体的な関数がありそうかどうかの指標] MEV = 0.940\n",
            "MCN (eps=0) = 3.807\n",
            "MCN (eps=1-MIC) = 3.585\n",
            "GMIC = 0.781\n",
            "TIC = 9.169\n"
          ],
          "name": "stdout"
        },
        {
          "output_type": "display_data",
          "data": {
            "image/png": "[encoded data removed]",
            "text/plain": [
              "<Figure size 432x288 with 1 Axes>"
            ]
          },
          "metadata": {
            "tags": [],
            "needs_background": "light"
          }
        }
      ]
    },
    {
      "cell_type": "markdown",
      "metadata": {
        "id": "nIpQA2ZHaUKB",
        "colab_type": "text"
      },
      "source": [
        "次に Pearson Corr が役に立たないケースの代表例である $y = x^2$ について調べる    \n",
        "Person Corr は 0.018 なので，線形相関はほとんどない  \n",
        "これをたまに「$x$ と $y$ は\"関係ない\"」と勘違いする人もいるが，当然見て分かる通り，明らかな\"関係\"がある(あくまで\"線形関係がない\"しか言えない)  \n",
        "(※ちなみに $Corr(x, y) = 0$ のことを「無相関である」ということが多いが，多分この用語が混乱の原因だと思われる．もっと言うと「独立」と「無相関」も混同しやすいというのも混乱の原因．数理統計学的には「独立」は「無相関」よりも強い概念であり「無相関だけど独立ではない」反例はいくらでもある)  \n",
        "  \n",
        "一方 MIC は 0.940 と出してくれている  \n",
        "MAS は 0.617 とそこそこ大きいので「単調性ではなさそう」と出してくれていて，今の場合は確かに単調でないのは明らか  \n",
        "MEV は 0.940 とかなり大きいので「$y$ と $x$ の関係は具体的に表示できる可能性が非常に高い」と出してくれる  \n",
        "  \n",
        "よって「Person Corr がダメでもMINE統計量ならOK」が実証されている"
      ]
    },
    {
      "cell_type": "markdown",
      "metadata": {
        "id": "Eb2Is47VXDUm",
        "colab_type": "text"
      },
      "source": [
        "# $y = e^x + noise$"
      ]
    },
    {
      "cell_type": "code",
      "metadata": {
        "id": "kJjkkZeAW8Is",
        "colab_type": "code",
        "outputId": "4d33ee16-67b6-4a9a-c29d-a7931d819375",
        "colab": {
          "base_uri": "https://localhost:8080/",
          "height": 401
        }
      },
      "source": [
        "np.random.seed(3)\n",
        "\n",
        "N = 100\n",
        "x = np.linspace(-10, 10, N)\n",
        "noise = np.random.uniform(-1000, 1000, size = N)    # expなので [-1, 1] だと変動が弱いから区間幅を広げる\n",
        "y = np.exp(x) + noise\n",
        "\n",
        "print_indicators(x, y)"
      ],
      "execution_count": 5,
      "outputs": [
        {
          "output_type": "stream",
          "text": [
            "[線形相関の指標] Pearson Corr = 0.521\n",
            "[線形とは限らない相関の指標] MIC = 0.658\n",
            "[単調関係がなさそうかどうかの指標] MAS = 0.023\n",
            "[具体的な関数がありそうかどうかの指標] MEV = 0.658\n",
            "MCN (eps=0) = 3.585\n",
            "MCN (eps=1-MIC) = 3.322\n",
            "GMIC = 0.482\n",
            "TIC = 6.841\n"
          ],
          "name": "stdout"
        },
        {
          "output_type": "display_data",
          "data": {
            "image/png": "[encoded data removed]",
            "text/plain": [
              "<Figure size 432x288 with 1 Axes>"
            ]
          },
          "metadata": {
            "tags": [],
            "needs_background": "light"
          }
        }
      ]
    },
    {
      "cell_type": "markdown",
      "metadata": {
        "id": "_YZ9W-BLclK8",
        "colab_type": "text"
      },
      "source": [
        "次に Pearson Corr が役に立たないケースの2つ目の例は $y = e^x$    \n",
        "特徴としては「非線形」，「単調増大」  \n",
        "つまり $y = x^2$ との違いとしては「単調性」がある  \n",
        "よって想定としては「MIC:大きい，MAS：小さい，MEV:大きい」となってほしい  \n",
        "   \n",
        "Pearson Corr は 0.521 であり，線形相関はあるとは出してくれているがやや弱い    \n",
        "一方 MIC は 0.658 であり，Pearson Corr よりは大きく出ている  \n",
        "(**想定していたよりは小さかったので少し驚いた**)  \n",
        "MAS は 0.023 とかなり小さいので「単調性がある」と出してくれて，これは想定通り  \n",
        "MEV は 0.658 で，これまでと比べると少し小さくなった  \n",
        "  \n",
        "MIC と MEV の値が少し小さくなったのが気になるが，一応は\"想定内\"の実験結果ではある"
      ]
    },
    {
      "cell_type": "markdown",
      "metadata": {
        "id": "j_1YbxlTXb4u",
        "colab_type": "text"
      },
      "source": [
        "# $y = \\sin x + noise$"
      ]
    },
    {
      "cell_type": "code",
      "metadata": {
        "id": "2pHJiLwNXKUZ",
        "colab_type": "code",
        "outputId": "96feae00-9247-496e-a14a-60dd809eb043",
        "colab": {
          "base_uri": "https://localhost:8080/",
          "height": 404
        }
      },
      "source": [
        "np.random.seed(4)\n",
        "\n",
        "N = 100\n",
        "x = np.linspace(-10, 10, N)\n",
        "noise = np.random.uniform(-1, 1, size = N)\n",
        "y = np.sin(x) + noise\n",
        "\n",
        "print_indicators(x, y)"
      ],
      "execution_count": 6,
      "outputs": [
        {
          "output_type": "stream",
          "text": [
            "[線形相関の指標] Pearson Corr = 0.103\n",
            "[線形とは限らない相関の指標] MIC = 0.677\n",
            "[単調関係がなさそうかどうかの指標] MAS = 0.409\n",
            "[具体的な関数がありそうかどうかの指標] MEV = 0.677\n",
            "MCN (eps=0) = 3.807\n",
            "MCN (eps=1-MIC) = 3.585\n",
            "GMIC = 0.278\n",
            "TIC = 4.100\n"
          ],
          "name": "stdout"
        },
        {
          "output_type": "display_data",
          "data": {
            "image/png": "[encoded data removed]",
            "text/plain": [
              "<Figure size 432x288 with 1 Axes>"
            ]
          },
          "metadata": {
            "tags": [],
            "needs_background": "light"
          }
        }
      ]
    },
    {
      "cell_type": "markdown",
      "metadata": {
        "id": "VMqyUWL6D_wa",
        "colab_type": "text"
      },
      "source": [
        "次に Pearson Corr が役に立たないケースの3つ目の例は $y = \\sin x$    \n",
        "特徴としては「非線形」，「周期性(単調でない)」  \n",
        "想定としては「MIC:大きい，MAS：大きい，MEV:大きい」となってほしい  \n",
        "   \n",
        "Pearson Corr は 0.103 であり，線形相関は当然ないと判断されている    \n",
        "一方 MIC は 0.677 であり，Pearson Corr よりは大きく出ている  \n",
        "MAS は 0.409 であり「単調性がある」とは判断してくれていない(想定通り)  \n",
        "MEV は 0.677 で，これまでと比べると少し小さいが，ある程度は大きい  \n",
        "  \n",
        "MEV の値が少し小さいのが気になるが，一応は\"想定内\"の実験結果ではある"
      ]
    },
    {
      "cell_type": "markdown",
      "metadata": {
        "id": "UQvCebyAEovg",
        "colab_type": "text"
      },
      "source": [
        "# $y = x$ と $y = -x$ の2つの直線"
      ]
    },
    {
      "cell_type": "code",
      "metadata": {
        "id": "QZGPofFIEpDT",
        "colab_type": "code",
        "colab": {
          "base_uri": "https://localhost:8080/",
          "height": 401
        },
        "outputId": "cf16cf86-9289-4290-9817-3d24b044d610"
      },
      "source": [
        "np.random.seed(5)\n",
        "\n",
        "N = 200\n",
        "x = np.linspace(-10, 10, N)\n",
        "noise = np.random.uniform(-1, 1, size = N)\n",
        "y = [x[i] if i % 2 == 0 else -x[i] for i in range(len(x))] + noise\n",
        "\n",
        "print_indicators(x, y)"
      ],
      "execution_count": 7,
      "outputs": [
        {
          "output_type": "stream",
          "text": [
            "[線形相関の指標] Pearson Corr = 0.004\n",
            "[線形とは限らない相関の指標] MIC = 0.553\n",
            "[単調関係がなさそうかどうかの指標] MAS = 0.037\n",
            "[具体的な関数がありそうかどうかの指標] MEV = 0.300\n",
            "MCN (eps=0) = 3.907\n",
            "MCN (eps=1-MIC) = 3.170\n",
            "GMIC = 0.211\n",
            "TIC = 13.517\n"
          ],
          "name": "stdout"
        },
        {
          "output_type": "display_data",
          "data": {
            "image/png": "[encoded data removed]",
            "text/plain": [
              "<Figure size 432x288 with 1 Axes>"
            ]
          },
          "metadata": {
            "tags": [],
            "needs_background": "light"
          }
        }
      ]
    },
    {
      "cell_type": "markdown",
      "metadata": {
        "id": "xWsEyXnZEpPp",
        "colab_type": "text"
      },
      "source": [
        "関数が2つ存在する場合にどうなるのか試してみた    \n",
        "   \n",
        "Pearson Corr は 0.004 であり，線形相関は全くないと判断されている    \n",
        "一方 MIC は 0.553 であり，何かしらの決して弱くない相関はあると判断されている  \n",
        "MAS は 0.037 であり「単調性がある」と判断してしまっている  \n",
        "(**※どうやらこういう分岐がある場合では MAS を過信するのはよくなさそうだ**)  \n",
        "MEV は 0.300 で，これまでと比べるとけっこう低くなる  \n",
        "(**当然1つの関数で表せられるようなものではないので妥当と言える**)  \n",
        "  \n",
        "MAS が想定と異なった結果になった(**なにが本質的な原因なのかについては追い切れていない**)  "
      ]
    },
    {
      "cell_type": "markdown",
      "metadata": {
        "id": "0qdV5KDQGKoL",
        "colab_type": "text"
      },
      "source": [
        "# $x^2 + y^2 = 1$"
      ]
    },
    {
      "cell_type": "code",
      "metadata": {
        "id": "CjWJrTsVGRb7",
        "colab_type": "code",
        "colab": {
          "base_uri": "https://localhost:8080/",
          "height": 401
        },
        "outputId": "0d20d72b-9967-460d-f35c-6849dbdc41a9"
      },
      "source": [
        "np.random.seed(6)\n",
        "\n",
        "N = 200\n",
        "x = np.linspace(-1, 1, N)  # 範囲を変更している\n",
        "noise = np.random.uniform(-0.2, 0.2, size = N)  # 変動も変更している\n",
        "y = [np.sqrt(1 - x[i]**2) if i % 2 == 0 else - np.sqrt(1 - x[i]**2) for i in range(len(x))] + noise\n",
        "\n",
        "print_indicators(x, y)"
      ],
      "execution_count": 8,
      "outputs": [
        {
          "output_type": "stream",
          "text": [
            "[線形相関の指標] Pearson Corr = -0.022\n",
            "[線形とは限らない相関の指標] MIC = 0.441\n",
            "[単調関係がなさそうかどうかの指標] MAS = 0.110\n",
            "[具体的な関数がありそうかどうかの指標] MEV = 0.268\n",
            "MCN (eps=0) = 4.585\n",
            "MCN (eps=1-MIC) = 2.585\n",
            "GMIC = 0.187\n",
            "TIC = 9.715\n"
          ],
          "name": "stdout"
        },
        {
          "output_type": "display_data",
          "data": {
            "image/png": "[encoded data removed]",
            "text/plain": [
              "<Figure size 432x288 with 1 Axes>"
            ]
          },
          "metadata": {
            "tags": [],
            "needs_background": "light"
          }
        }
      ]
    },
    {
      "cell_type": "markdown",
      "metadata": {
        "id": "IvK1H8I1GOv_",
        "colab_type": "text"
      },
      "source": [
        "円形の場合にどうなるのか試してみた    \n",
        "   \n",
        "Pearson Corr は -0.022 であり，線形相関は全くないと判断されている    \n",
        "一方 MIC は 0.441 であり，何かしらの決して弱くない相関はあると判断されている  \n",
        "MAS は 0.110 であり「単調性がある」と判断してしまっている  \n",
        "(**※どうやらこのような場合でも MAS を過信するのはよくなさそうだ**)  \n",
        "MEV は 0.268 で，これまでと比べるとけっこう低くなる  \n",
        "(**さっきとは違い，1つの式で書けるは書けるので，もう少し値は大きくなるかと思ったが，そういうわけでもないらしい**)  \n",
        "  \n",
        "MAS と MEV が想定と異なった結果になった(**なにが本質的な原因なのかについては追い切れていない**)  "
      ]
    },
    {
      "cell_type": "markdown",
      "metadata": {
        "id": "8Tug00tWGQ0v",
        "colab_type": "text"
      },
      "source": [
        "# $y = x^2$ と $y = -x^2$ の2つの曲線"
      ]
    },
    {
      "cell_type": "code",
      "metadata": {
        "id": "Bk8IG_VGHBnU",
        "colab_type": "code",
        "colab": {
          "base_uri": "https://localhost:8080/",
          "height": 401
        },
        "outputId": "73f2bf4f-1d9a-4688-f6b7-10b0022200cb"
      },
      "source": [
        "np.random.seed(7)\n",
        "\n",
        "N = 200\n",
        "x = np.linspace(-1, 1, N)\n",
        "noise = np.random.uniform(-0.2, 0.2, size = N)\n",
        "y = [x[i]**2 if i % 2 == 0 else - x[i]**2 for i in range(len(x))] + noise\n",
        "\n",
        "print_indicators(x, y)"
      ],
      "execution_count": 9,
      "outputs": [
        {
          "output_type": "stream",
          "text": [
            "[線形相関の指標] Pearson Corr = -0.037\n",
            "[線形とは限らない相関の指標] MIC = 0.467\n",
            "[単調関係がなさそうかどうかの指標] MAS = 0.036\n",
            "[具体的な関数がありそうかどうかの指標] MEV = 0.286\n",
            "MCN (eps=0) = 4.585\n",
            "MCN (eps=1-MIC) = 3.000\n",
            "GMIC = 0.169\n",
            "TIC = 11.884\n"
          ],
          "name": "stdout"
        },
        {
          "output_type": "display_data",
          "data": {
            "image/png": "[encoded data removed]",
            "text/plain": [
              "<Figure size 432x288 with 1 Axes>"
            ]
          },
          "metadata": {
            "tags": [],
            "needs_background": "light"
          }
        }
      ]
    },
    {
      "cell_type": "markdown",
      "metadata": {
        "id": "4NdoTbONHLmB",
        "colab_type": "text"
      },
      "source": [
        "先ほどの×のような形をより非線形にした場合にどうなるのか試してみた    \n",
        "   \n",
        "Pearson Corr は -0.037 であり，線形相関は全くないと判断されている    \n",
        "一方 MIC は 0.467 であり，何かしらの決して弱くない相関はあると判断されている  \n",
        "MAS は 0.036 であり「単調性がある」と判断してしまっている  \n",
        "MEV は 0.286 で，これまでと比べるとけっこう低くなる  \n",
        "  \n",
        "やはりこの場合でも MAS と MEV の出力結果にはやや疑問が残る結果となった"
      ]
    },
    {
      "cell_type": "markdown",
      "metadata": {
        "id": "VpHVOg1XHtVj",
        "colab_type": "text"
      },
      "source": [
        "# $y = x - [x]$"
      ]
    },
    {
      "cell_type": "code",
      "metadata": {
        "id": "jajYwxROHthh",
        "colab_type": "code",
        "colab": {
          "base_uri": "https://localhost:8080/",
          "height": 401
        },
        "outputId": "9a1851f0-6205-400e-e848-a8f28b72aad0"
      },
      "source": [
        "np.random.seed(8)\n",
        "\n",
        "N = 100\n",
        "x = np.linspace(0, 5, N)  # 範囲を変更している\n",
        "noise = np.random.uniform(-0.05, 0.05, size = N)  # 変動も変更している\n",
        "y = x - np.floor(x) + noise\n",
        "print_indicators(x, y)"
      ],
      "execution_count": 10,
      "outputs": [
        {
          "output_type": "stream",
          "text": [
            "[線形相関の指標] Pearson Corr = 0.191\n",
            "[線形とは限らない相関の指標] MIC = 0.552\n",
            "[単調関係がなさそうかどうかの指標] MAS = 0.361\n",
            "[具体的な関数がありそうかどうかの指標] MEV = 0.552\n",
            "MCN (eps=0) = 3.807\n",
            "MCN (eps=1-MIC) = 3.322\n",
            "GMIC = 0.315\n",
            "TIC = 3.598\n"
          ],
          "name": "stdout"
        },
        {
          "output_type": "display_data",
          "data": {
            "image/png": "[encoded data removed]",
            "text/plain": [
              "<Figure size 432x288 with 1 Axes>"
            ]
          },
          "metadata": {
            "tags": [],
            "needs_background": "light"
          }
        }
      ]
    },
    {
      "cell_type": "markdown",
      "metadata": {
        "id": "AUygu-B4HtsN",
        "colab_type": "text"
      },
      "source": [
        "$\\sin x$ とはまた違う周期的な場合にどうなるのか試してみた    \n",
        "   \n",
        "Pearson Corr は 0.191 であり，弱い線形相関があるかないか微妙なところである  \n",
        "一方 MIC は 0.552 であり，何かしらの決して弱くない相関はあると判断されている  \n",
        "MAS は 0.361 であり「単調性はなさそう」と判断した  \n",
        "MEV は 0.552 で，これも想定に近い結果  \n",
        "  \n",
        "MAS の結果が想定外になる原因としては，データが分岐しているからダメというよりは，  \n",
        "1つの関数で表されるかどうかによる部分が大きそうだ  "
      ]
    },
    {
      "cell_type": "markdown",
      "metadata": {
        "id": "aHpHluNdIygH",
        "colab_type": "text"
      },
      "source": [
        "# $y = x^2$ と $z = \\sin x$ として $y$ と $z$ の相関"
      ]
    },
    {
      "cell_type": "code",
      "metadata": {
        "id": "zmbZ2mgIIyol",
        "colab_type": "code",
        "colab": {
          "base_uri": "https://localhost:8080/",
          "height": 401
        },
        "outputId": "a8988a43-d1dc-4fb2-a0f2-be44bbe923d0"
      },
      "source": [
        "np.random.seed(9)\n",
        "\n",
        "N = 200\n",
        "x = np.linspace(-1, 1, N)\n",
        "noise = np.random.uniform(-0.3, 0.3, size = N)\n",
        "y = x**2 + noise\n",
        "z = np.sin(x) + noise\n",
        "\n",
        "print_indicators(y, z)"
      ],
      "execution_count": 11,
      "outputs": [
        {
          "output_type": "stream",
          "text": [
            "[線形相関の指標] Pearson Corr = 0.179\n",
            "[線形とは限らない相関の指標] MIC = 0.691\n",
            "[単調関係がなさそうかどうかの指標] MAS = 0.401\n",
            "[具体的な関数がありそうかどうかの指標] MEV = 0.691\n",
            "MCN (eps=0) = 4.585\n",
            "MCN (eps=1-MIC) = 2.585\n",
            "GMIC = 0.594\n",
            "TIC = 15.969\n"
          ],
          "name": "stdout"
        },
        {
          "output_type": "display_data",
          "data": {
            "image/png": "[encoded data removed]",
            "text/plain": [
              "<Figure size 432x288 with 1 Axes>"
            ]
          },
          "metadata": {
            "tags": [],
            "needs_background": "light"
          }
        }
      ]
    },
    {
      "cell_type": "markdown",
      "metadata": {
        "id": "YqfMgFmqIyxL",
        "colab_type": "text"
      },
      "source": [
        "$y = f(x)$ と $z = g(x)$ として，$(y, z)$ の相関を測るとどうなるか試してみた   \n",
        "Pearson Corr は 0.179 であり，弱い線形相関があるかないか微妙なところである  \n",
        "一方 MIC は 0.691 であり，何かしらの決して弱くない相関はあると判断されている  \n",
        "MAS は 0.401 であり「単調性はなさそう」と判断した  \n",
        "MEV は 0.691 で，関数で表されるものであると判断した  \n",
        "  \n",
        "当然 $x = \\pm \\sqrt{y}$ から $z = \\sin(\\pm \\sqrt{y})$ と表されるので，相関はあるに決まっている  \n",
        "実際にそれを示すような結果となっている  \n",
        "(**逆に言えば「偏相関」のようなものは出してはくれない可能性がある？**)"
      ]
    },
    {
      "cell_type": "markdown",
      "metadata": {
        "id": "dYg5BWl_Kb6X",
        "colab_type": "text"
      },
      "source": [
        "# AR(1) モデル $y_t = \\dfrac{1}{2} y_{t-1} + \\epsilon_{t}$"
      ]
    },
    {
      "cell_type": "code",
      "metadata": {
        "id": "3lWVRlS3KgiP",
        "colab_type": "code",
        "colab": {
          "base_uri": "https://localhost:8080/",
          "height": 401
        },
        "outputId": "264dc3cd-9402-4e5e-d008-8e6d785b4ad8"
      },
      "source": [
        "np.random.seed(10)\n",
        "\n",
        "N = 100\n",
        "x = np.linspace(-1, 1, N)\n",
        "y = np.zeros(N)  # 初期化\n",
        "phi = .5\n",
        "\n",
        "# いわゆるAR(1)モデル\n",
        "for i in range(len(y)):\n",
        "  if i > 0:\n",
        "    y[i] = phi * y[i-1] + np.random.normal(0, 1)\n",
        "\n",
        "print_indicators(x, y)"
      ],
      "execution_count": 12,
      "outputs": [
        {
          "output_type": "stream",
          "text": [
            "[線形相関の指標] Pearson Corr = -0.081\n",
            "[線形とは限らない相関の指標] MIC = 0.249\n",
            "[単調関係がなさそうかどうかの指標] MAS = 0.054\n",
            "[具体的な関数がありそうかどうかの指標] MEV = 0.249\n",
            "MCN (eps=0) = 3.807\n",
            "MCN (eps=1-MIC) = 2.585\n",
            "GMIC = 0.116\n",
            "TIC = 2.201\n"
          ],
          "name": "stdout"
        },
        {
          "output_type": "display_data",
          "data": {
            "image/png": "[encoded data removed]",
            "text/plain": [
              "<Figure size 432x288 with 1 Axes>"
            ]
          },
          "metadata": {
            "tags": [],
            "needs_background": "light"
          }
        }
      ]
    },
    {
      "cell_type": "code",
      "metadata": {
        "id": "W-l7-4k2K10Z",
        "colab_type": "code",
        "colab": {
          "base_uri": "https://localhost:8080/",
          "height": 282
        },
        "outputId": "236fc8ab-120f-4fb7-948e-d3fcaa4aadd6"
      },
      "source": [
        "# 参考\n",
        "plt.plot(x, y)"
      ],
      "execution_count": 13,
      "outputs": [
        {
          "output_type": "execute_result",
          "data": {
            "text/plain": [
              "[<matplotlib.lines.Line2D at 0x7fe738ae6c18>]"
            ]
          },
          "metadata": {
            "tags": []
          },
          "execution_count": 13
        },
        {
          "output_type": "display_data",
          "data": {
            "image/png": "[encoded data removed]",
            "text/plain": [
              "<Figure size 432x288 with 1 Axes>"
            ]
          },
          "metadata": {
            "tags": [],
            "needs_background": "light"
          }
        }
      ]
    },
    {
      "cell_type": "markdown",
      "metadata": {
        "id": "v-L9zZcOKgqh",
        "colab_type": "text"
      },
      "source": [
        "時系列でおなじみの AR(1) モデルの場合にどうなるか試してみた   \n",
        "Pearson Corr は -0.081 であり，線形相関はほとんどないとみなされる  \n",
        "MIC も 0.249 であり，相関は弱そうだ  \n",
        "MAS は 0.054 であり「単調性はある」と判断した  \n",
        "(**単位根過程ならまだしも，AR係数は弱定常になるように設定しているのでこれは妥当ではないように思われる**)  \n",
        "MEV は 0.249 で，関数で表されるかどうか微妙なところである  \n",
        "  \n",
        "$y$ は $y$ 自身の過去にしか依らないので，$x$ (今の場合は時間を想定) とは相関はないはず  \n",
        "それを考えると，概ね期待通りの結果が出ていると思われる  "
      ]
    },
    {
      "cell_type": "markdown",
      "metadata": {
        "id": "LIPT1hVkXhoH",
        "colab_type": "text"
      },
      "source": [
        "# $y = noise$"
      ]
    },
    {
      "cell_type": "code",
      "metadata": {
        "id": "3-1I-4R-XiaW",
        "colab_type": "code",
        "outputId": "a7a9a5a4-7d45-472a-cf0b-a9db6fe638ba",
        "colab": {
          "base_uri": "https://localhost:8080/",
          "height": 401
        }
      },
      "source": [
        "np.random.seed(11)\n",
        "\n",
        "N = 100\n",
        "x = np.linspace(-10, 10, N)\n",
        "noise = np.random.uniform(-1, 1, size = N)\n",
        "y = noise\n",
        "\n",
        "print_indicators(x, y)"
      ],
      "execution_count": 14,
      "outputs": [
        {
          "output_type": "stream",
          "text": [
            "[線形相関の指標] Pearson Corr = 0.150\n",
            "[線形とは限らない相関の指標] MIC = 0.247\n",
            "[単調関係がなさそうかどうかの指標] MAS = 0.017\n",
            "[具体的な関数がありそうかどうかの指標] MEV = 0.247\n",
            "MCN (eps=0) = 3.807\n",
            "MCN (eps=1-MIC) = 2.585\n",
            "GMIC = 0.138\n",
            "TIC = 2.221\n"
          ],
          "name": "stdout"
        },
        {
          "output_type": "display_data",
          "data": {
            "image/png": "[encoded data removed]",
            "text/plain": [
              "<Figure size 432x288 with 1 Axes>"
            ]
          },
          "metadata": {
            "tags": [],
            "needs_background": "light"
          }
        }
      ]
    },
    {
      "cell_type": "markdown",
      "metadata": {
        "id": "m3YY3tT5Ehin",
        "colab_type": "text"
      },
      "source": [
        "最後にノイズしかない状況だとどうなるかを試してみた      \n",
        "   \n",
        "Pearson Corr は 0.150 であり，線形相関はかなり弱いと判断されている    \n",
        "MIC も 0.247 であり，関係は弱そうだと判断されている  \n",
        "MAS は 0.017 であり「単調性がある」とは判断してしまっている  \n",
        "MEV は 0.247 で，なんとも言い難い  \n",
        "  \n",
        "ノイズしかないので「$x$ と $y$ には相関がある」と算出されても困る  \n",
        "それを踏まえると MIC はけっこう小さくなってくれているので想定通り  \n",
        "MAS は相変わらずよく分からないことになっている  "
      ]
    },
    {
      "cell_type": "markdown",
      "metadata": {
        "id": "A01bdWQUPOPY",
        "colab_type": "text"
      },
      "source": [
        "# リファレンス"
      ]
    },
    {
      "cell_type": "markdown",
      "metadata": {
        "id": "PAKV6atzlcga",
        "colab_type": "text"
      },
      "source": [
        "https://minepy.readthedocs.io/en/latest/python.html  \n",
        "MINEのPythonAPI の doc  \n",
        "MINEの使い方が記載されている\n",
        "  \n",
        "https://science.sciencemag.org/content/334/6062/1518.full?ijkey=cRCIlh2G7AjiA&keytype=ref&siteid=sci  \n",
        "MICの原論文\n",
        "\n",
        "https://www.ncbi.nlm.nih.gov/pmc/articles/PMC3561932/  \n",
        "臨床データと診断画像の相関について調べている論文(詳しく読んでいないのでよく分からない)  \n",
        "MICなどの数式がしっかりと書いている  \n",
        "  \n",
        "http://www.exploredata.net/Overview  \n",
        "MINEの開発doc  \n",
        "元々はJavaで作られていてPythonのライブラリはただそれを動かしているだけらしい  \n",
        "  \n",
        "http://jmlr.org/papers/v17/15-308.html  \n",
        "MICについて深堀している論文  \n",
        "MICの数式について(調べた限りでは)一番詳しく書いている  \n",
        "ただ MAS や MEV については書いていない  \n"
      ]
    }
  ]
}